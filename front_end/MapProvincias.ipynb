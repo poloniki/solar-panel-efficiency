{
 "cells": [
  {
   "cell_type": "code",
   "execution_count": 13,
   "metadata": {},
   "outputs": [],
   "source": [
    "import pandas as pd\n",
    "import numpy as np\n",
    "from urllib.request import urlopen\n",
    "import json\n"
   ]
  },
  {
   "cell_type": "code",
   "execution_count": 5,
   "metadata": {},
   "outputs": [],
   "source": [
    "provincias = pd.read_csv('raw_data/provincias.csv')\n",
    "energy = pd.read_csv('raw_data/Spain_energy_df_2017.csv')\n",
    "\n"
   ]
  },
  {
   "cell_type": "code",
   "execution_count": 40,
   "metadata": {},
   "outputs": [],
   "source": [
    "with urlopen('https://raw.githubusercontent.com/deldersveld/topojson/master/countries/spain/spain-province.json')\\\n",
    "    as response:\n",
    "    Spain = json.load(response)"
   ]
  },
  {
   "cell_type": "code",
   "execution_count": 43,
   "metadata": {},
   "outputs": [],
   "source": [
    "provincias_grouped = provincias.groupby('Provincia').agg({'latitude':'mean','longitude':'mean'}).reset_index()"
   ]
  },
  {
   "cell_type": "code",
   "execution_count": 65,
   "metadata": {},
   "outputs": [
    {
     "data": {
      "text/html": [
       "<div>\n",
       "<style scoped>\n",
       "    .dataframe tbody tr th:only-of-type {\n",
       "        vertical-align: middle;\n",
       "    }\n",
       "\n",
       "    .dataframe tbody tr th {\n",
       "        vertical-align: top;\n",
       "    }\n",
       "\n",
       "    .dataframe thead th {\n",
       "        text-align: right;\n",
       "    }\n",
       "</style>\n",
       "<table border=\"1\" class=\"dataframe\">\n",
       "  <thead>\n",
       "    <tr style=\"text-align: right;\">\n",
       "      <th></th>\n",
       "      <th>Unnamed: 0</th>\n",
       "      <th>country</th>\n",
       "      <th>capacity_mw</th>\n",
       "      <th>lat</th>\n",
       "      <th>lon</th>\n",
       "      <th>primary_fuel</th>\n",
       "      <th>Solar Generation (2017)</th>\n",
       "    </tr>\n",
       "  </thead>\n",
       "  <tbody>\n",
       "    <tr>\n",
       "      <th>0</th>\n",
       "      <td>20135</td>\n",
       "      <td>ESP</td>\n",
       "      <td>877.66</td>\n",
       "      <td>43.5528</td>\n",
       "      <td>-5.7231</td>\n",
       "      <td>Coal</td>\n",
       "      <td>4003.64</td>\n",
       "    </tr>\n",
       "    <tr>\n",
       "      <th>1</th>\n",
       "      <td>20136</td>\n",
       "      <td>ESP</td>\n",
       "      <td>758.74</td>\n",
       "      <td>39.9427</td>\n",
       "      <td>-3.8548</td>\n",
       "      <td>Gas</td>\n",
       "      <td>1798.46</td>\n",
       "    </tr>\n",
       "  </tbody>\n",
       "</table>\n",
       "</div>"
      ],
      "text/plain": [
       "   Unnamed: 0 country  capacity_mw      lat     lon primary_fuel  \\\n",
       "0       20135     ESP       877.66  43.5528 -5.7231         Coal   \n",
       "1       20136     ESP       758.74  39.9427 -3.8548          Gas   \n",
       "\n",
       "   Solar Generation (2017)  \n",
       "0                  4003.64  \n",
       "1                  1798.46  "
      ]
     },
     "execution_count": 65,
     "metadata": {},
     "output_type": "execute_result"
    }
   ],
   "source": [
    "energy.head(2)"
   ]
  },
  {
   "cell_type": "code",
   "execution_count": 79,
   "metadata": {},
   "outputs": [
    {
     "data": {
      "text/html": [
       "<div>\n",
       "<style scoped>\n",
       "    .dataframe tbody tr th:only-of-type {\n",
       "        vertical-align: middle;\n",
       "    }\n",
       "\n",
       "    .dataframe tbody tr th {\n",
       "        vertical-align: top;\n",
       "    }\n",
       "\n",
       "    .dataframe thead th {\n",
       "        text-align: right;\n",
       "    }\n",
       "</style>\n",
       "<table border=\"1\" class=\"dataframe\">\n",
       "  <thead>\n",
       "    <tr style=\"text-align: right;\">\n",
       "      <th></th>\n",
       "      <th>Solar Generation (2017)</th>\n",
       "    </tr>\n",
       "    <tr>\n",
       "      <th>province</th>\n",
       "      <th></th>\n",
       "    </tr>\n",
       "  </thead>\n",
       "  <tbody>\n",
       "    <tr>\n",
       "      <th>Tarragona</th>\n",
       "      <td>29594.68</td>\n",
       "    </tr>\n",
       "    <tr>\n",
       "      <th>Caceres</th>\n",
       "      <td>18406.04</td>\n",
       "    </tr>\n",
       "    <tr>\n",
       "      <th>Valencia/Val�ncia</th>\n",
       "      <td>15133.59</td>\n",
       "    </tr>\n",
       "  </tbody>\n",
       "</table>\n",
       "</div>"
      ],
      "text/plain": [
       "                   Solar Generation (2017)\n",
       "province                                  \n",
       "Tarragona                         29594.68\n",
       "Caceres                           18406.04\n",
       "Valencia/Val�ncia                 15133.59"
      ]
     },
     "execution_count": 79,
     "metadata": {},
     "output_type": "execute_result"
    }
   ],
   "source": [
    "def get_closest_province(row):\n",
    "    df = provincias_grouped[['latitude','longitude']] - list(row[['lat','lon']])\n",
    "\n",
    "    df['agg'] = df['latitude']**2 + df['longitude']**2\n",
    "    name_index = df.sort_values('agg').iloc[0,:].name\n",
    "\n",
    "    return provincias_grouped.iloc[name_index].Provincia\n",
    "energy['province'] = energy.apply(get_closest_province,axis=1)\n",
    "\n",
    "energy.groupby('province').agg({'Solar Generation (2017)':'sum'}).sort_values('Solar Generation (2017)',ascending=False).head(3)"
   ]
  },
  {
   "cell_type": "code",
   "execution_count": 81,
   "metadata": {},
   "outputs": [
    {
     "data": {
      "text/html": [
       "<div>\n",
       "<style scoped>\n",
       "    .dataframe tbody tr th:only-of-type {\n",
       "        vertical-align: middle;\n",
       "    }\n",
       "\n",
       "    .dataframe tbody tr th {\n",
       "        vertical-align: top;\n",
       "    }\n",
       "\n",
       "    .dataframe thead th {\n",
       "        text-align: right;\n",
       "    }\n",
       "</style>\n",
       "<table border=\"1\" class=\"dataframe\">\n",
       "  <thead>\n",
       "    <tr style=\"text-align: right;\">\n",
       "      <th></th>\n",
       "      <th>Unnamed: 0</th>\n",
       "      <th>country</th>\n",
       "      <th>capacity_mw</th>\n",
       "      <th>lat</th>\n",
       "      <th>lon</th>\n",
       "      <th>primary_fuel</th>\n",
       "      <th>Solar Generation (2017)</th>\n",
       "      <th>province</th>\n",
       "    </tr>\n",
       "  </thead>\n",
       "  <tbody>\n",
       "    <tr>\n",
       "      <th>50</th>\n",
       "      <td>20185</td>\n",
       "      <td>ESP</td>\n",
       "      <td>9.6</td>\n",
       "      <td>37.8370</td>\n",
       "      <td>-4.9800</td>\n",
       "      <td>Solar</td>\n",
       "      <td>19.24</td>\n",
       "      <td>Cordoba</td>\n",
       "    </tr>\n",
       "    <tr>\n",
       "      <th>112</th>\n",
       "      <td>20247</td>\n",
       "      <td>ESP</td>\n",
       "      <td>49.9</td>\n",
       "      <td>37.7574</td>\n",
       "      <td>-5.0620</td>\n",
       "      <td>Solar</td>\n",
       "      <td>102.69</td>\n",
       "      <td>Cordoba</td>\n",
       "    </tr>\n",
       "    <tr>\n",
       "      <th>587</th>\n",
       "      <td>20722</td>\n",
       "      <td>ESP</td>\n",
       "      <td>14.4</td>\n",
       "      <td>38.4000</td>\n",
       "      <td>-6.4667</td>\n",
       "      <td>Wind</td>\n",
       "      <td>30.62</td>\n",
       "      <td>Badajoz</td>\n",
       "    </tr>\n",
       "  </tbody>\n",
       "</table>\n",
       "</div>"
      ],
      "text/plain": [
       "     Unnamed: 0 country  capacity_mw      lat     lon primary_fuel  \\\n",
       "50        20185     ESP          9.6  37.8370 -4.9800        Solar   \n",
       "112       20247     ESP         49.9  37.7574 -5.0620        Solar   \n",
       "587       20722     ESP         14.4  38.4000 -6.4667         Wind   \n",
       "\n",
       "     Solar Generation (2017) province  \n",
       "50                     19.24  Cordoba  \n",
       "112                   102.69  Cordoba  \n",
       "587                    30.62  Badajoz  "
      ]
     },
     "execution_count": 81,
     "metadata": {},
     "output_type": "execute_result"
    }
   ],
   "source": [
    "energy.sample(3)"
   ]
  },
  {
   "cell_type": "code",
   "execution_count": null,
   "metadata": {},
   "outputs": [],
   "source": []
  }
 ],
 "metadata": {
  "kernelspec": {
   "display_name": "Python 3.8.12 64-bit ('shims')",
   "language": "python",
   "name": "python3"
  },
  "language_info": {
   "codemirror_mode": {
    "name": "ipython",
    "version": 3
   },
   "file_extension": ".py",
   "mimetype": "text/x-python",
   "name": "python",
   "nbconvert_exporter": "python",
   "pygments_lexer": "ipython3",
   "version": "3.8.12"
  },
  "orig_nbformat": 4,
  "vscode": {
   "interpreter": {
    "hash": "211a611e43ffd387bc3358f70c1c5270b1aa46258f0eba691e4a5432226d839e"
   }
  }
 },
 "nbformat": 4,
 "nbformat_minor": 2
}
